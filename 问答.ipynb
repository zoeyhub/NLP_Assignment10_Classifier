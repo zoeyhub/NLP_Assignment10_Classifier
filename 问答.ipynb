{
 "cells": [
  {
   "cell_type": "markdown",
   "metadata": {},
   "source": [
    "#### 1. What is independent assumption in Naive bayes ?"
   ]
  },
  {
   "cell_type": "markdown",
   "metadata": {},
   "source": [
    "- 假设各个特征之间相互独立，互不影响，即\n",
    "$$ P(AB)=P(A)P(B)$$\n",
    "$$==> P(a_1,a_2,,,a_n|v_j)=\\prod P(a_i|v_j) $$"
   ]
  },
  {
   "cell_type": "markdown",
   "metadata": {},
   "source": [
    "#### 2. What is MAP(maximum a posterior) and ML(maximum likelihood) ?"
   ]
  },
  {
   "cell_type": "markdown",
   "metadata": {},
   "source": [
    "- MAP，最大后验概率,根据结果估计原因，即根据已经观测到的数据，估计导致该数据结果的最有可能的函数\n",
    "\n",
    "$$h_MAP = argmax P(h|D) = argmax \\frac{P(D|h)P(h)}{P(D)} = argmax P(D|h)P(h)$$\n",
    "\n",
    "- ML，最大似然，根据原因来估计结果的概率，即根据已知概率的函数，估计数据\n",
    "\n",
    "$$h_ML = argmax P(D|h)$$"
   ]
  },
  {
   "cell_type": "markdown",
   "metadata": {},
   "source": [
    "#### 3. What is support vector in SVM?"
   ]
  },
  {
   "cell_type": "markdown",
   "metadata": {},
   "source": [
    "- 决定决策边界的向量为支持向量，在决策边界中，$ \\omega = \\sum(α_iy_ix_i)$，在α>0时，为支持向量，在α=0时，对$\\omega$的值没有影响，不是支持向量"
   ]
  },
  {
   "cell_type": "markdown",
   "metadata": {},
   "source": [
    "#### 4. What is the intuition behind SVM ?"
   ]
  },
  {
   "cell_type": "markdown",
   "metadata": {},
   "source": [
    "- 最小距离取最大。与样本的距离取最小，决策边界距离取最大"
   ]
  },
  {
   "cell_type": "markdown",
   "metadata": {},
   "source": [
    "#### 5. Shortly describ what 'random' means in random forest ?"
   ]
  },
  {
   "cell_type": "markdown",
   "metadata": {},
   "source": [
    "- 有放回的随机抽取训练样本\n",
    "- 有放回的随机选取m个特征作为一棵树的分枝依据"
   ]
  },
  {
   "cell_type": "markdown",
   "metadata": {},
   "source": [
    "#### 6. What cariterion does XGBoost use to find the best split point in a tree ?"
   ]
  },
  {
   "cell_type": "markdown",
   "metadata": {},
   "source": [
    "- 最小化目标函数  $\\sum_{i=1}^{n}[g_if_t(x_i)+\\frac{1}{2}h_if_{t}^{2}(x_i)]+\\Omega (f_t)$"
   ]
  }
 ],
 "metadata": {
  "kernelspec": {
   "display_name": "Python 3",
   "language": "python",
   "name": "python3"
  },
  "language_info": {
   "codemirror_mode": {
    "name": "ipython",
    "version": 3
   },
   "file_extension": ".py",
   "mimetype": "text/x-python",
   "name": "python",
   "nbconvert_exporter": "python",
   "pygments_lexer": "ipython3",
   "version": "3.7.3"
  }
 },
 "nbformat": 4,
 "nbformat_minor": 2
}
